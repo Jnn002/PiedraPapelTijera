{
 "cells": [
  {
   "cell_type": "code",
   "execution_count": 1,
   "metadata": {},
   "outputs": [],
   "source": [
    "import random\n",
    "\n",
    "elecciones = ['piedra', 'papel', 'tijeras']\n",
    "\n",
    "def determinar_ganador(jugador, computadora):\n",
    "    if jugador == computadora:\n",
    "        return 'Empate'\n",
    "    if jugador == 'piedra' and computadora == 'tijeras':\n",
    "        return 'Ganaste'\n",
    "    if jugador == 'papel' and computadora == 'piedra':\n",
    "        return 'Ganaste'\n",
    "    if jugador == 'tijeras' and computadora == 'papel':\n",
    "        return 'Ganaste'\n",
    "    return 'Perdiste'"
   ]
  },
  {
   "cell_type": "code",
   "execution_count": 2,
   "metadata": {},
   "outputs": [
    {
     "name": "stdout",
     "output_type": "stream",
     "text": [
      "EMpate: Computadora 1 - Jugador 1\n"
     ]
    }
   ],
   "source": [
    "rondas_jugador = 0  # Contador de rondas ganadas por el jugador\n",
    "rondas_computadora = 0# Contador de rondas ganadas por la computadora\n",
    "rondas = 0\n",
    "\n",
    "for rondas in range(3):\n",
    "    jugador = input('Elige piedra, papel o tijeras: ')\n",
    "    if jugador == 'salir':\n",
    "        print('Adios')#Si el jugador escribe salir, el juego termina\n",
    "        break\n",
    "    if jugador not in elecciones:\n",
    "        print('Eleccion invalida')\n",
    "    else:\n",
    "        computadora = random.choice(elecciones)\n",
    "        resultado = determinar_ganador(jugador, computadora)           \n",
    "        if resultado == 'Ganaste':\n",
    "                rondas_jugador = rondas_jugador + 1#Si el jugador gana, se suma una ronda ganada\n",
    "        elif resultado == 'Perdiste':\n",
    "                rondas_computadora = rondas_computadora + 1#Si la computadora gana, se suma una ronda ganada\n",
    "\n",
    "if rondas_jugador > rondas_computadora:\n",
    "    print(f'Has ganado {rondas_jugador} rondas en total')#Se imprime el total de rondas ganadas por el jugador\n",
    "    print('Tú ganas')\n",
    "elif rondas_computadora > rondas_jugador:\n",
    "    print(f'La computadora ha ganado {rondas_computadora} rondas en total')#Se imprime la la victoria de la computadora\n",
    "    print('La computadora gana')\n",
    "else:\n",
    "    print(f'EMpate: Computadora {rondas_computadora} - Jugador {rondas_jugador}')# Si hay empate, se imprime el marcador final\n"
   ]
  }
 ],
 "metadata": {
  "kernelspec": {
   "display_name": "base",
   "language": "python",
   "name": "python3"
  },
  "language_info": {
   "codemirror_mode": {
    "name": "ipython",
    "version": 3
   },
   "file_extension": ".py",
   "mimetype": "text/x-python",
   "name": "python",
   "nbconvert_exporter": "python",
   "pygments_lexer": "ipython3",
   "version": "3.11.8"
  }
 },
 "nbformat": 4,
 "nbformat_minor": 2
}
