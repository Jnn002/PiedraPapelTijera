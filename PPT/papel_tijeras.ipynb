{
 "cells": [
  {
   "cell_type": "code",
   "execution_count": 1,
   "metadata": {},
   "outputs": [],
   "source": [
    "import random\n",
    "\n",
    "elecciones = ['piedra', 'papel', 'tijeras']\n"
   ]
  },
  {
   "cell_type": "code",
   "execution_count": 2,
   "metadata": {},
   "outputs": [],
   "source": [
    "def determinar_ganador(jugador, computadora):\n",
    "    if jugador == computadora:\n",
    "        return 'Empate'\n",
    "    if jugador == 'piedra' and computadora == 'tijeras':\n",
    "        return 'Ganaste'\n",
    "    if jugador == 'papel' and computadora == 'piedra':\n",
    "        return 'Ganaste'\n",
    "    if jugador == 'tijeras' and computadora == 'papel':\n",
    "        return 'Ganaste'\n",
    "    return 'Perdiste'"
   ]
  },
  {
   "cell_type": "code",
   "execution_count": 3,
   "metadata": {},
   "outputs": [
    {
     "name": "stdout",
     "output_type": "stream",
     "text": [
      "Computadora eligio papel y tu elegiste piedra\n",
      "Perdiste\n",
      "Computadora eligio papel y tu elegiste papel\n",
      "Empate\n",
      "Computadora eligio piedra y tu elegiste papel\n",
      "Ganaste\n",
      "Computadora eligio papel y tu elegiste tijeras\n",
      "Ganaste\n",
      "Computadora eligio papel y tu elegiste piedra\n",
      "Perdiste\n",
      "Computadora eligio tijeras y tu elegiste piedra\n",
      "Ganaste\n",
      "Adios\n"
     ]
    }
   ],
   "source": [
    "while True:\n",
    "    jugador = input('Elige piedra, papel o tijeras: ')\n",
    "    if jugador == 'salir':\n",
    "        print('Adios')\n",
    "        break\n",
    "    if jugador not in elecciones:\n",
    "        print('Eleccion invalida')\n",
    "    else:\n",
    "        computadora = random.choice(elecciones)\n",
    "        print(f'Computadora eligio {computadora} y tu elegiste {jugador}')\n",
    "        resultado = determinar_ganador(jugador, computadora) \n",
    "        print(resultado)\n"
   ]
  }
 ],
 "metadata": {
  "kernelspec": {
   "display_name": "Python 3",
   "language": "python",
   "name": "python3"
  },
  "language_info": {
   "codemirror_mode": {
    "name": "ipython",
    "version": 3
   },
   "file_extension": ".py",
   "mimetype": "text/x-python",
   "name": "python",
   "nbconvert_exporter": "python",
   "pygments_lexer": "ipython3",
   "version": "3.11.8"
  }
 },
 "nbformat": 4,
 "nbformat_minor": 2
}
